{
 "cells": [
  {
   "cell_type": "markdown",
   "metadata": {
    "deletable": true,
    "editable": true
   },
   "source": [
    "# Visualising Delaware School Locations"
   ]
  },
  {
   "cell_type": "markdown",
   "metadata": {
    "deletable": true,
    "editable": true
   },
   "source": [
    "## 1. Installing dependencies\n",
    "\n",
    "Firstly we have to make sure all the python packages we wish to use are installed.\n",
    "\n",
    "Prefixing a line with `!` will run the rest of the line as a shell command.\n",
    "\n",
    "The following is just like using `pip` from the shell."
   ]
  },
  {
   "cell_type": "code",
   "execution_count": null,
   "metadata": {
    "collapsed": true,
    "deletable": true,
    "editable": true
   },
   "outputs": [],
   "source": [
    "! pip install folium==0.3.0 pandas requests"
   ]
  },
  {
   "cell_type": "markdown",
   "metadata": {
    "deletable": true,
    "editable": true
   },
   "source": [
    "## 2. Importing packages before we start working\n",
    "\n",
    "Before we can use them we have to import the dependecies we installed in step 1."
   ]
  },
  {
   "cell_type": "code",
   "execution_count": 1,
   "metadata": {
    "collapsed": false,
    "deletable": true,
    "editable": true
   },
   "outputs": [
    {
     "name": "stdout",
     "output_type": "stream",
     "text": [
      "0.19.2\n"
     ]
    }
   ],
   "source": [
    "# Import builtin python packages\n",
    "import math\n",
    "import os\n",
    "\n",
    "# Import installed python packages\n",
    "import requests\n",
    "import pandas as pd\n",
    "print(pd.__version__)\n",
    "import folium"
   ]
  },
  {
   "cell_type": "markdown",
   "metadata": {
    "deletable": true,
    "editable": true
   },
   "source": [
    "## 3. Download data\n",
    "\n",
    "### Delaware School Directory Data\n",
    "\n",
    "Lets download some data from _http://data.delaware.gov_.\n",
    "\n",
    "The Education category contains a dataset called _School Directory_"
   ]
  },
  {
   "cell_type": "code",
   "execution_count": 2,
   "metadata": {
    "collapsed": false,
    "deletable": true,
    "editable": true
   },
   "outputs": [
    {
     "name": "stdout",
     "output_type": "stream",
     "text": [
      "Download succeeded\n"
     ]
    }
   ],
   "source": [
    "# Download Delaware School Directory json data\n",
    "    \n",
    "school_directory_url = 'http://data.delaware.gov/resource/f6a3-crpj.json'\n",
    "# Note: The notebooks.azure.com service limits where data can be downloaded from.\n",
    "#       We've downloaded the data to github with IS accessible within notebooks.azure.com\n",
    "#       Just uncomment the url below and comment out the one above\n",
    "# school_directory_url = 'https://raw.githubusercontent.com/WilmingtonWebDev/putting-data-on-the-web/master/data/delaware_school_directory.json'\n",
    "\n",
    "# Download the data\n",
    "with open('./data/delaware_school_directory.json', 'wb') as fh:\n",
    "    response = requests.get(school_directory_url)\n",
    "    if response.status_code == 200:\n",
    "        fh.write(response.content)\n",
    "        print(\"Download succeeded\")\n",
    "    else:\n",
    "        print(\"Download failed\")\n",
    "        print(response.reason)"
   ]
  },
  {
   "cell_type": "code",
   "execution_count": 3,
   "metadata": {
    "collapsed": true,
    "deletable": true,
    "editable": true
   },
   "outputs": [],
   "source": [
    "df = pd.read_json('./data/delaware_school_directory.json')"
   ]
  },
  {
   "cell_type": "code",
   "execution_count": 4,
   "metadata": {
    "collapsed": false,
    "deletable": true,
    "editable": true
   },
   "outputs": [
    {
     "data": {
      "text/html": [
       "<div>\n",
       "<table border=\"1\" class=\"dataframe\">\n",
       "  <thead>\n",
       "    <tr style=\"text-align: right;\">\n",
       "      <th></th>\n",
       "      <th>city</th>\n",
       "      <th>county</th>\n",
       "      <th>districtcode</th>\n",
       "      <th>districtname</th>\n",
       "      <th>districttype</th>\n",
       "      <th>educationlevel</th>\n",
       "      <th>geocoded_location</th>\n",
       "      <th>geocoded_location_address</th>\n",
       "      <th>geocoded_location_city</th>\n",
       "      <th>geocoded_location_state</th>\n",
       "      <th>...</th>\n",
       "      <th>isungraded</th>\n",
       "      <th>lowestgrade</th>\n",
       "      <th>schoolcode</th>\n",
       "      <th>schoolname</th>\n",
       "      <th>schooltype</th>\n",
       "      <th>schoolyear</th>\n",
       "      <th>state</th>\n",
       "      <th>street1</th>\n",
       "      <th>street2</th>\n",
       "      <th>zip</th>\n",
       "    </tr>\n",
       "  </thead>\n",
       "  <tbody>\n",
       "    <tr>\n",
       "      <th>0</th>\n",
       "      <td>Magnolia</td>\n",
       "      <td>Kent</td>\n",
       "      <td>10</td>\n",
       "      <td>Caesar Rodney School District</td>\n",
       "      <td>Regular</td>\n",
       "      <td>Kindergarten</td>\n",
       "      <td>NaN</td>\n",
       "      <td>Post Office Box 258</td>\n",
       "      <td>Magnolia</td>\n",
       "      <td>DE</td>\n",
       "      <td>...</td>\n",
       "      <td>0</td>\n",
       "      <td>KG</td>\n",
       "      <td>611</td>\n",
       "      <td>J. Ralph McIlvaine Early Childhood Center</td>\n",
       "      <td>PUBLIC</td>\n",
       "      <td>2016</td>\n",
       "      <td>DE</td>\n",
       "      <td>Post Office Box 258</td>\n",
       "      <td>11 East Walnut</td>\n",
       "      <td>19962</td>\n",
       "    </tr>\n",
       "    <tr>\n",
       "      <th>1</th>\n",
       "      <td>Dover</td>\n",
       "      <td>Kent</td>\n",
       "      <td>10</td>\n",
       "      <td>Caesar Rodney School District</td>\n",
       "      <td>Regular</td>\n",
       "      <td>Elementary</td>\n",
       "      <td>NaN</td>\n",
       "      <td>3100 Hawthorne Drive</td>\n",
       "      <td>Dover</td>\n",
       "      <td>DE</td>\n",
       "      <td>...</td>\n",
       "      <td>0</td>\n",
       "      <td>01</td>\n",
       "      <td>612</td>\n",
       "      <td>Major George S. Welch Elementary School</td>\n",
       "      <td>PUBLIC</td>\n",
       "      <td>2016</td>\n",
       "      <td>DE</td>\n",
       "      <td>3100 Hawthorne Drive</td>\n",
       "      <td>--</td>\n",
       "      <td>199015391</td>\n",
       "    </tr>\n",
       "    <tr>\n",
       "      <th>2</th>\n",
       "      <td>Dover</td>\n",
       "      <td>Kent</td>\n",
       "      <td>10</td>\n",
       "      <td>Caesar Rodney School District</td>\n",
       "      <td>Regular</td>\n",
       "      <td>Middle</td>\n",
       "      <td>NaN</td>\n",
       "      <td>3100 Hawthorne Drive</td>\n",
       "      <td>Dover</td>\n",
       "      <td>DE</td>\n",
       "      <td>...</td>\n",
       "      <td>0</td>\n",
       "      <td>06</td>\n",
       "      <td>628</td>\n",
       "      <td>Dover Air Force Base Middle School</td>\n",
       "      <td>PUBLIC</td>\n",
       "      <td>2016</td>\n",
       "      <td>DE</td>\n",
       "      <td>3100 Hawthorne Drive</td>\n",
       "      <td>--</td>\n",
       "      <td>199015391</td>\n",
       "    </tr>\n",
       "  </tbody>\n",
       "</table>\n",
       "<p>3 rows × 28 columns</p>\n",
       "</div>"
      ],
      "text/plain": [
       "       city county  districtcode                   districtname districttype  \\\n",
       "0  Magnolia   Kent            10  Caesar Rodney School District      Regular   \n",
       "1     Dover   Kent            10  Caesar Rodney School District      Regular   \n",
       "2     Dover   Kent            10  Caesar Rodney School District      Regular   \n",
       "\n",
       "  educationlevel geocoded_location geocoded_location_address  \\\n",
       "0   Kindergarten               NaN       Post Office Box 258   \n",
       "1     Elementary               NaN      3100 Hawthorne Drive   \n",
       "2         Middle               NaN      3100 Hawthorne Drive   \n",
       "\n",
       "  geocoded_location_city geocoded_location_state    ...      isungraded  \\\n",
       "0               Magnolia                      DE    ...               0   \n",
       "1                  Dover                      DE    ...               0   \n",
       "2                  Dover                      DE    ...               0   \n",
       "\n",
       "   lowestgrade  schoolcode                                 schoolname  \\\n",
       "0           KG         611  J. Ralph McIlvaine Early Childhood Center   \n",
       "1           01         612    Major George S. Welch Elementary School   \n",
       "2           06         628         Dover Air Force Base Middle School   \n",
       "\n",
       "   schooltype  schoolyear  state               street1         street2  \\\n",
       "0      PUBLIC        2016     DE   Post Office Box 258  11 East Walnut   \n",
       "1      PUBLIC        2016     DE  3100 Hawthorne Drive              --   \n",
       "2      PUBLIC        2016     DE  3100 Hawthorne Drive              --   \n",
       "\n",
       "         zip  \n",
       "0      19962  \n",
       "1  199015391  \n",
       "2  199015391  \n",
       "\n",
       "[3 rows x 28 columns]"
      ]
     },
     "execution_count": 4,
     "metadata": {},
     "output_type": "execute_result"
    }
   ],
   "source": [
    "df.head(3)"
   ]
  },
  {
   "cell_type": "code",
   "execution_count": 5,
   "metadata": {
    "collapsed": false,
    "deletable": true,
    "editable": true
   },
   "outputs": [
    {
     "name": "stdout",
     "output_type": "stream",
     "text": [
      "Showing 100 out of 1000 schools\n"
     ]
    }
   ],
   "source": [
    "# Create a map centered and zoomed into Delaware\n",
    "school_map = folium.Map(location=[39, -75], zoom_start=8)\n",
    "\n",
    "# note you can increase this, but it may make you notebook crash\n",
    "schools_to_show = 100\n",
    "print(\"Showing {} out of {} schools\".format(schools_to_show, len(df)))\n",
    "\n",
    "for index, row in df[:schools_to_show].iterrows():\n",
    "    location = row['geocoded_location']\n",
    "    school_name = row['schoolname']\n",
    "    if isinstance(location, dict):\n",
    "        fixedLoc = [location['coordinates'][1], location['coordinates'][0]]\n",
    "        folium.Marker(fixedLoc, popup=school_name).add_to(school_map)"
   ]
  },
  {
   "cell_type": "code",
   "execution_count": 6,
   "metadata": {
    "collapsed": false,
    "deletable": true,
    "editable": true
   },
   "outputs": [
    {
     "data": {
      "text/html": [
       "<div style=\"width:100%;\"><div style=\"position:relative;width:100%;height:0;padding-bottom:60%;\"><iframe src=\"data:text/html;base64,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\" style=\"position:absolute;width:100%;height:100%;left:0;top:0;\"></iframe></div></div>"
      ],
      "text/plain": [
       "<folium.folium.Map at 0x7f133cb1cf60>"
      ]
     },
     "execution_count": 6,
     "metadata": {},
     "output_type": "execute_result"
    }
   ],
   "source": [
    "school_map"
   ]
  },
  {
   "cell_type": "markdown",
   "metadata": {
    "collapsed": true,
    "deletable": true,
    "editable": true
   },
   "source": [
    "[fin]"
   ]
  }
 ],
 "metadata": {
  "kernelspec": {
   "display_name": "Python 3",
   "language": "python",
   "name": "python3"
  },
  "language_info": {
   "codemirror_mode": {
    "name": "ipython",
    "version": 3
   },
   "file_extension": ".py",
   "mimetype": "text/x-python",
   "name": "python",
   "nbconvert_exporter": "python",
   "pygments_lexer": "ipython3",
   "version": "3.5.2"
  }
 },
 "nbformat": 4,
 "nbformat_minor": 2
}
