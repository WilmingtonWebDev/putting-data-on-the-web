{
 "cells": [
  {
   "cell_type": "markdown",
   "metadata": {
    "deletable": true,
    "editable": true
   },
   "source": [
    "# Visualising Delaware School Locations"
   ]
  },
  {
   "cell_type": "markdown",
   "metadata": {
    "deletable": true,
    "editable": true
   },
   "source": [
    "## 1. Installing dependencies\n",
    "\n",
    "Firstly we have to make sure all the python packages we wish to use are installed.\n",
    "\n",
    "Prefixing a line with `!` will run the rest of the line as a shell command.\n",
    "\n",
    "The following is just like using `pip` from the shell."
   ]
  },
  {
   "cell_type": "code",
   "execution_count": 3,
   "metadata": {
    "collapsed": true,
    "deletable": true,
    "editable": true
   },
   "outputs": [
    {
     "name": "stdout",
     "output_type": "stream",
     "text": [
      "Requirement already satisfied: folium==0.3.0 in /home/tom/Envs/charting-tutorial/lib/python3.5/site-packages\r\n",
      "Requirement already satisfied: pandas in /home/tom/Envs/charting-tutorial/lib/python3.5/site-packages\r\n",
      "Requirement already satisfied: requests in /home/tom/Envs/charting-tutorial/lib/python3.5/site-packages\r\n",
      "Requirement already satisfied: branca in /home/tom/Envs/charting-tutorial/lib/python3.5/site-packages (from folium==0.3.0)\r\n",
      "Requirement already satisfied: six in /home/tom/Envs/charting-tutorial/lib/python3.5/site-packages (from folium==0.3.0)\r\n",
      "Requirement already satisfied: Jinja2 in /home/tom/Envs/charting-tutorial/lib/python3.5/site-packages (from folium==0.3.0)\r\n",
      "Requirement already satisfied: pytz>=2011k in /home/tom/Envs/charting-tutorial/lib/python3.5/site-packages (from pandas)\r\n",
      "Requirement already satisfied: numpy>=1.7.0 in /home/tom/Envs/charting-tutorial/lib/python3.5/site-packages (from pandas)\r\n",
      "Requirement already satisfied: python-dateutil>=2 in /home/tom/Envs/charting-tutorial/lib/python3.5/site-packages (from pandas)\r\n",
      "Requirement already satisfied: MarkupSafe>=0.23 in /home/tom/Envs/charting-tutorial/lib/python3.5/site-packages (from Jinja2->folium==0.3.0)\r\n"
     ]
    }
   ],
   "source": [
    "! pip install folium==0.3.0 pandas requests"
   ]
  },
  {
   "cell_type": "markdown",
   "metadata": {
    "deletable": true,
    "editable": true
   },
   "source": [
    "## 2. Importing packages before we start working\n",
    "\n",
    "Before we can use them we have to import the dependecies we installed in step 1."
   ]
  },
  {
   "cell_type": "code",
   "execution_count": 21,
   "metadata": {
    "collapsed": false,
    "deletable": true,
    "editable": true
   },
   "outputs": [
    {
     "name": "stdout",
     "output_type": "stream",
     "text": [
      "0.19.2\n"
     ]
    }
   ],
   "source": [
    "# Import builtin python packages\n",
    "import math\n",
    "import os\n",
    "\n",
    "# Import installed python packages\n",
    "import requests\n",
    "import pandas as pd\n",
    "print(pd.__version__)\n",
    "import folium"
   ]
  },
  {
   "cell_type": "markdown",
   "metadata": {
    "deletable": true,
    "editable": true
   },
   "source": [
    "## 3. Downloading data\n",
    "\n",
    "### GeoJSON shapes for Delaware\n",
    "\n",
    "https://en.wikipedia.org/wiki/GeoJSON\n",
    "> GeoJSON[1] is an open standard format designed for representing simple geographical features ...\n",
    "\n",
    "State, county, census tract, congressional district, and zip code geographic geojson shapes can be found at https://github.com/tomdottom/delaware_geojson \n"
   ]
  },
  {
   "cell_type": "code",
   "execution_count": 22,
   "metadata": {
    "collapsed": false,
    "deletable": true,
    "editable": true
   },
   "outputs": [
    {
     "name": "stdout",
     "output_type": "stream",
     "text": [
      "Download succeeded\n"
     ]
    }
   ],
   "source": [
    "# Download Delaware zip code geojson shapes\n",
    "    \n",
    "restaurant_inspection_violations_url = 'https://raw.githubusercontent.com/tomdottom/delaware_geojson/master/zcta.geojson'\n",
    "# Note: The notebooks.azure.com service limits where data can be downloaded from.\n",
    "#       We've downloaded the data to github with IS accessible within notebooks.azure.com\n",
    "#       Just uncomment the url below and comment out the one above\n",
    "# restaurant_inspection_violations_url = 'https://raw.githubusercontent.com/tomdottom/putting-data-on-the-web/master/data/de_zcta.geojson'\n",
    "\n",
    "# Download the data\n",
    "with open('./data/de_zcta.geojson', 'wb') as fh:\n",
    "    response = requests.get(restaurant_inspection_violations_url)\n",
    "    if response.status_code == 200:\n",
    "        fh.write(response.content)\n",
    "        print(\"Download succeeded\")\n",
    "    else:\n",
    "        print(\"Download failed\")\n",
    "        print(response.reason)"
   ]
  },
  {
   "cell_type": "markdown",
   "metadata": {
    "deletable": true,
    "editable": true
   },
   "source": [
    "### Delaware School Directory Data\n",
    "\n",
    "Next lets download some data from _http://data.delaware.gov_.\n",
    "\n",
    "The Education category contains a dataset called _School Directory_"
   ]
  },
  {
   "cell_type": "code",
   "execution_count": 23,
   "metadata": {
    "collapsed": false,
    "deletable": true,
    "editable": true
   },
   "outputs": [
    {
     "name": "stdout",
     "output_type": "stream",
     "text": [
      "Download succeeded\n"
     ]
    }
   ],
   "source": [
    "# Download Delaware School Directory json data\n",
    "    \n",
    "school_directory_url = 'http://data.delaware.gov/resource/f6a3-crpj.json'\n",
    "# Note: The notebooks.azure.com service limits where data can be downloaded from.\n",
    "#       We've downloaded the data to github with IS accessible within notebooks.azure.com\n",
    "#       Just uncomment the url below and comment out the one above\n",
    "# school_directory_url = 'https://raw.githubusercontent.com/WilmingtonWebDev/delaware_geojson/master/delaware_school_directory.json'\n",
    "\n",
    "# Download the data\n",
    "with open('./data/delaware_school_directory.json', 'wb') as fh:\n",
    "    response = requests.get(school_directory_url)\n",
    "    if response.status_code == 200:\n",
    "        fh.write(response.content)\n",
    "        print(\"Download succeeded\")\n",
    "    else:\n",
    "        print(\"Download failed\")\n",
    "        print(response.reason)"
   ]
  },
  {
   "cell_type": "code",
   "execution_count": 24,
   "metadata": {
    "collapsed": true,
    "deletable": true,
    "editable": true
   },
   "outputs": [],
   "source": [
    "df = pd.read_json('./data/delaware_school_directory.json')"
   ]
  },
  {
   "cell_type": "code",
   "execution_count": 72,
   "metadata": {
    "collapsed": false,
    "deletable": true,
    "editable": true
   },
   "outputs": [
    {
     "data": {
      "text/html": [
       "<div>\n",
       "<table border=\"1\" class=\"dataframe\">\n",
       "  <thead>\n",
       "    <tr style=\"text-align: right;\">\n",
       "      <th></th>\n",
       "      <th>city</th>\n",
       "      <th>county</th>\n",
       "      <th>districtcode</th>\n",
       "      <th>districtname</th>\n",
       "      <th>districttype</th>\n",
       "      <th>educationlevel</th>\n",
       "      <th>geocoded_location</th>\n",
       "      <th>geocoded_location_address</th>\n",
       "      <th>geocoded_location_city</th>\n",
       "      <th>geocoded_location_state</th>\n",
       "      <th>...</th>\n",
       "      <th>isungraded</th>\n",
       "      <th>lowestgrade</th>\n",
       "      <th>schoolcode</th>\n",
       "      <th>schoolname</th>\n",
       "      <th>schooltype</th>\n",
       "      <th>schoolyear</th>\n",
       "      <th>state</th>\n",
       "      <th>street1</th>\n",
       "      <th>street2</th>\n",
       "      <th>zip</th>\n",
       "    </tr>\n",
       "  </thead>\n",
       "  <tbody>\n",
       "    <tr>\n",
       "      <th>0</th>\n",
       "      <td>Magnolia</td>\n",
       "      <td>Kent</td>\n",
       "      <td>10</td>\n",
       "      <td>Caesar Rodney School District</td>\n",
       "      <td>Regular</td>\n",
       "      <td>Kindergarten</td>\n",
       "      <td>NaN</td>\n",
       "      <td>Post Office Box 258</td>\n",
       "      <td>Magnolia</td>\n",
       "      <td>DE</td>\n",
       "      <td>...</td>\n",
       "      <td>0</td>\n",
       "      <td>KG</td>\n",
       "      <td>611</td>\n",
       "      <td>J. Ralph McIlvaine Early Childhood Center</td>\n",
       "      <td>PUBLIC</td>\n",
       "      <td>2016</td>\n",
       "      <td>DE</td>\n",
       "      <td>Post Office Box 258</td>\n",
       "      <td>11 East Walnut</td>\n",
       "      <td>19962</td>\n",
       "    </tr>\n",
       "    <tr>\n",
       "      <th>1</th>\n",
       "      <td>Dover</td>\n",
       "      <td>Kent</td>\n",
       "      <td>10</td>\n",
       "      <td>Caesar Rodney School District</td>\n",
       "      <td>Regular</td>\n",
       "      <td>Elementary</td>\n",
       "      <td>NaN</td>\n",
       "      <td>3100 Hawthorne Drive</td>\n",
       "      <td>Dover</td>\n",
       "      <td>DE</td>\n",
       "      <td>...</td>\n",
       "      <td>0</td>\n",
       "      <td>01</td>\n",
       "      <td>612</td>\n",
       "      <td>Major George S. Welch Elementary School</td>\n",
       "      <td>PUBLIC</td>\n",
       "      <td>2016</td>\n",
       "      <td>DE</td>\n",
       "      <td>3100 Hawthorne Drive</td>\n",
       "      <td>--</td>\n",
       "      <td>199015391</td>\n",
       "    </tr>\n",
       "    <tr>\n",
       "      <th>2</th>\n",
       "      <td>Dover</td>\n",
       "      <td>Kent</td>\n",
       "      <td>10</td>\n",
       "      <td>Caesar Rodney School District</td>\n",
       "      <td>Regular</td>\n",
       "      <td>Middle</td>\n",
       "      <td>NaN</td>\n",
       "      <td>3100 Hawthorne Drive</td>\n",
       "      <td>Dover</td>\n",
       "      <td>DE</td>\n",
       "      <td>...</td>\n",
       "      <td>0</td>\n",
       "      <td>06</td>\n",
       "      <td>628</td>\n",
       "      <td>Dover Air Force Base Middle School</td>\n",
       "      <td>PUBLIC</td>\n",
       "      <td>2016</td>\n",
       "      <td>DE</td>\n",
       "      <td>3100 Hawthorne Drive</td>\n",
       "      <td>--</td>\n",
       "      <td>199015391</td>\n",
       "    </tr>\n",
       "  </tbody>\n",
       "</table>\n",
       "<p>3 rows × 28 columns</p>\n",
       "</div>"
      ],
      "text/plain": [
       "       city county  districtcode                   districtname districttype  \\\n",
       "0  Magnolia   Kent            10  Caesar Rodney School District      Regular   \n",
       "1     Dover   Kent            10  Caesar Rodney School District      Regular   \n",
       "2     Dover   Kent            10  Caesar Rodney School District      Regular   \n",
       "\n",
       "  educationlevel geocoded_location geocoded_location_address  \\\n",
       "0   Kindergarten               NaN       Post Office Box 258   \n",
       "1     Elementary               NaN      3100 Hawthorne Drive   \n",
       "2         Middle               NaN      3100 Hawthorne Drive   \n",
       "\n",
       "  geocoded_location_city geocoded_location_state    ...      isungraded  \\\n",
       "0               Magnolia                      DE    ...               0   \n",
       "1                  Dover                      DE    ...               0   \n",
       "2                  Dover                      DE    ...               0   \n",
       "\n",
       "   lowestgrade  schoolcode                                 schoolname  \\\n",
       "0           KG         611  J. Ralph McIlvaine Early Childhood Center   \n",
       "1           01         612    Major George S. Welch Elementary School   \n",
       "2           06         628         Dover Air Force Base Middle School   \n",
       "\n",
       "   schooltype  schoolyear  state               street1         street2  \\\n",
       "0      PUBLIC        2016     DE   Post Office Box 258  11 East Walnut   \n",
       "1      PUBLIC        2016     DE  3100 Hawthorne Drive              --   \n",
       "2      PUBLIC        2016     DE  3100 Hawthorne Drive              --   \n",
       "\n",
       "         zip  \n",
       "0      19962  \n",
       "1  199015391  \n",
       "2  199015391  \n",
       "\n",
       "[3 rows x 28 columns]"
      ]
     },
     "execution_count": 72,
     "metadata": {},
     "output_type": "execute_result"
    }
   ],
   "source": [
    "df.head(3)"
   ]
  },
  {
   "cell_type": "code",
   "execution_count": 70,
   "metadata": {
    "collapsed": false,
    "deletable": true,
    "editable": true
   },
   "outputs": [
    {
     "name": "stdout",
     "output_type": "stream",
     "text": [
      "Showing 100 out of 1000 schools\n"
     ]
    }
   ],
   "source": [
    "# Create a map centered and zoomed into Delaware\n",
    "school_map = folium.Map(location=[39, -75], zoom_start=8)\n",
    "\n",
    "# note you can increase this, but it may make you notebook crash\n",
    "schools_to_show = 100\n",
    "print(\"Showing {} out of {} schools\".format(schools_to_show, len(df)))\n",
    "\n",
    "for index, row in df[:schools_to_show].iterrows():\n",
    "    location = row['geocoded_location']\n",
    "    school_name = row['schoolname']\n",
    "    if isinstance(location, dict):\n",
    "        fixedLoc = [location['coordinates'][1], location['coordinates'][0]]\n",
    "        folium.Marker(fixedLoc, popup=school_name).add_to(school_map)"
   ]
  },
  {
   "cell_type": "code",
   "execution_count": 71,
   "metadata": {
    "collapsed": false,
    "deletable": true,
    "editable": true
   },
   "outputs": [
    {
     "data": {
      "text/html": [
       "<div style=\"width:100%;\"><div style=\"position:relative;width:100%;height:0;padding-bottom:60%;\"><iframe src=\"data:text/html;base64,PCFET0NUWVBFIGh0bWw+CjxoZWFkPiAgICAKICAgIDxtZXRhIGh0dHAtZXF1aXY9ImNvbnRlbnQtdHlwZSIgY29udGVudD0idGV4dC9odG1sOyBjaGFyc2V0PVVURi04IiAvPgogICAgPHNjcmlwdD5MX1BSRUZFUl9DQU5WQVMgPSBmYWxzZTsgTF9OT19UT1VDSCA9IGZhbHNlOyBMX0RJU0FCTEVfM0QgPSBmYWxzZTs8L3NjcmlwdD4KICAgIDxzY3JpcHQgc3JjPSJodHRwczovL3VucGtnLmNvbS9sZWFmbGV0QDEuMC4xL2Rpc3QvbGVhZmxldC5qcyI+PC9zY3JpcHQ+CiAgICA8c2NyaXB0IHNyYz0iaHR0cHM6Ly9hamF4Lmdvb2dsZWFwaXMuY29tL2FqYXgvbGlicy9qcXVlcnkvMS4xMS4xL2pxdWVyeS5taW4uanMiPjwvc2NyaXB0PgogICAgPHNjcmlwdCBzcmM9Imh0dHBzOi8vbWF4Y2RuLmJvb3RzdHJhcGNkbi5jb20vYm9vdHN0cmFwLzMuMi4wL2pzL2Jvb3RzdHJhcC5taW4uanMiPjwvc2NyaXB0PgogICAgPHNjcmlwdCBzcmM9Imh0dHBzOi8vY2RuanMuY2xvdWRmbGFyZS5jb20vYWpheC9saWJzL0xlYWZsZXQuYXdlc29tZS1tYXJrZXJzLzIuMC4yL2xlYWZsZXQuYXdlc29tZS1tYXJrZXJzLmpzIj48L3NjcmlwdD4KICAgIDxzY3JpcHQgc3JjPSJodHRwczovL2NkbmpzLmNsb3VkZmxhcmUuY29tL2FqYXgvbGlicy9sZWFmbGV0Lm1hcmtlcmNsdXN0ZXIvMS4wLjAvbGVhZmxldC5tYXJrZXJjbHVzdGVyLXNyYy5qcyI+PC9zY3JpcHQ+CiAgICA8c2NyaXB0IHNyYz0iaHR0cHM6Ly9jZG5qcy5jbG91ZGZsYXJlLmNvbS9hamF4L2xpYnMvbGVhZmxldC5tYXJrZXJjbHVzdGVyLzEuMC4wL2xlYWZsZXQubWFya2VyY2x1c3Rlci5qcyI+PC9zY3JpcHQ+CiAgICA8bGluayByZWw9InN0eWxlc2hlZXQiIGhyZWY9Imh0dHBzOi8vdW5wa2cuY29tL2xlYWZsZXRAMS4wLjEvZGlzdC9sZWFmbGV0LmNzcyIgLz4KICAgIDxsaW5rIHJlbD0ic3R5bGVzaGVldCIgaHJlZj0iaHR0cHM6Ly9tYXhjZG4uYm9vdHN0cmFwY2RuLmNvbS9ib290c3RyYXAvMy4yLjAvY3NzL2Jvb3RzdHJhcC5taW4uY3NzIiAvPgogICAgPGxpbmsgcmVsPSJzdHlsZXNoZWV0IiBocmVmPSJodHRwczovL21heGNkbi5ib290c3RyYXBjZG4uY29tL2Jvb3RzdHJhcC8zLjIuMC9jc3MvYm9vdHN0cmFwLXRoZW1lLm1pbi5jc3MiIC8+CiAgICA8bGluayByZWw9InN0eWxlc2hlZXQiIGhyZWY9Imh0dHBzOi8vbWF4Y2RuLmJvb3RzdHJhcGNkbi5jb20vZm9udC1hd2Vzb21lLzQuNi4zL2Nzcy9mb250LWF3ZXNvbWUubWluLmNzcyIgLz4KICAgIDxsaW5rIHJlbD0ic3R5bGVzaGVldCIgaHJlZj0iaHR0cHM6Ly9jZG5qcy5jbG91ZGZsYXJlLmNvbS9hamF4L2xpYnMvTGVhZmxldC5hd2Vzb21lLW1hcmtlcnMvMi4wLjIvbGVhZmxldC5hd2Vzb21lLW1hcmtlcnMuY3NzIiAvPgogICAgPGxpbmsgcmVsPSJzdHlsZXNoZWV0IiBocmVmPSJodHRwczovL2NkbmpzLmNsb3VkZmxhcmUuY29tL2FqYXgvbGlicy9sZWFmbGV0Lm1hcmtlcmNsdXN0ZXIvMS4wLjAvTWFya2VyQ2x1c3Rlci5EZWZhdWx0LmNzcyIgLz4KICAgIDxsaW5rIHJlbD0ic3R5bGVzaGVldCIgaHJlZj0iaHR0cHM6Ly9jZG5qcy5jbG91ZGZsYXJlLmNvbS9hamF4L2xpYnMvbGVhZmxldC5tYXJrZXJjbHVzdGVyLzEuMC4wL01hcmtlckNsdXN0ZXIuY3NzIiAvPgogICAgPGxpbmsgcmVsPSJzdHlsZXNoZWV0IiBocmVmPSJodHRwczovL3Jhd2dpdC5jb20vcHl0aG9uLXZpc3VhbGl6YXRpb24vZm9saXVtL21hc3Rlci9mb2xpdW0vdGVtcGxhdGVzL2xlYWZsZXQuYXdlc29tZS5yb3RhdGUuY3NzIiAvPgogICAgPHN0eWxlPmh0bWwsIGJvZHkge3dpZHRoOiAxMDAlO2hlaWdodDogMTAwJTttYXJnaW46IDA7cGFkZGluZzogMDt9PC9zdHlsZT4KICAgIDxzdHlsZT4jbWFwIHtwb3NpdGlvbjphYnNvbHV0ZTt0b3A6MDtib3R0b206MDtyaWdodDowO2xlZnQ6MDt9PC9zdHlsZT4KICAgIAogICAgICAgICAgICA8c3R5bGU+ICNtYXBfNjMzZGFlZWQzMmMwNDUyNThkNWU4NDg2NWZmNjExZjkgewogICAgICAgICAgICAgICAgcG9zaXRpb24gOiByZWxhdGl2ZTsKICAgICAgICAgICAgICAgIHdpZHRoIDogMTAwLjAlOwogICAgICAgICAgICAgICAgaGVpZ2h0OiAxMDAuMCU7CiAgICAgICAgICAgICAgICBsZWZ0OiAwLjAlOwogICAgICAgICAgICAgICAgdG9wOiAwLjAlOwogICAgICAgICAgICAgICAgfQogICAgICAgICAgICA8L3N0eWxlPgogICAgICAgIAo8L2hlYWQ+Cjxib2R5PiAgICAKICAgIAogICAgICAgICAgICA8ZGl2IGNsYXNzPSJmb2xpdW0tbWFwIiBpZD0ibWFwXzYzM2RhZWVkMzJjMDQ1MjU4ZDVlODQ4NjVmZjYxMWY5IiA+PC9kaXY+CiAgICAgICAgCjwvYm9keT4KPHNjcmlwdD4gICAgCiAgICAKCiAgICAgICAgICAgIAogICAgICAgICAgICAgICAgdmFyIHNvdXRoV2VzdCA9IEwubGF0TG5nKC05MCwgLTE4MCk7CiAgICAgICAgICAgICAgICB2YXIgbm9ydGhFYXN0ID0gTC5sYXRMbmcoOTAsIDE4MCk7CiAgICAgICAgICAgICAgICB2YXIgYm91bmRzID0gTC5sYXRMbmdCb3VuZHMoc291dGhXZXN0LCBub3J0aEVhc3QpOwogICAgICAgICAgICAKCiAgICAgICAgICAgIHZhciBtYXBfNjMzZGFlZWQzMmMwNDUyNThkNWU4NDg2NWZmNjExZjkgPSBMLm1hcCgKICAgICAgICAgICAgICAgICAgICAgICAgICAgICAgICAgICdtYXBfNjMzZGFlZWQzMmMwNDUyNThkNWU4NDg2NWZmNjExZjknLAogICAgICAgICAgICAgICAgICAgICAgICAgICAgICAgICAge2NlbnRlcjogWzM5LC03NV0sCiAgICAgICAgICAgICAgICAgICAgICAgICAgICAgICAgICB6b29tOiA4LAogICAgICAgICAgICAgICAgICAgICAgICAgICAgICAgICAgbWF4Qm91bmRzOiBib3VuZHMsCiAgICAgICAgICAgICAgICAgICAgICAgICAgICAgICAgICBsYXllcnM6IFtdLAogICAgICAgICAgICAgICAgICAgICAgICAgICAgICAgICAgd29ybGRDb3B5SnVtcDogZmFsc2UsCiAgICAgICAgICAgICAgICAgICAgICAgICAgICAgICAgICBjcnM6IEwuQ1JTLkVQU0czODU3CiAgICAgICAgICAgICAgICAgICAgICAgICAgICAgICAgIH0pOwogICAgICAgICAgICAKICAgICAgICAKICAgIAogICAgICAgICAgICB2YXIgdGlsZV9sYXllcl85YzdjYzRiMWQ4MzE0MGJhOTBjOGMzODZlZGMzMjBkNiA9IEwudGlsZUxheWVyKAogICAgICAgICAgICAgICAgJ2h0dHBzOi8ve3N9LnRpbGUub3BlbnN0cmVldG1hcC5vcmcve3p9L3t4fS97eX0ucG5nJywKICAgICAgICAgICAgICAgIHsKICAgICAgICAgICAgICAgICAgICBtYXhab29tOiAxOCwKICAgICAgICAgICAgICAgICAgICBtaW5ab29tOiAxLAogICAgICAgICAgICAgICAgICAgIGNvbnRpbnVvdXNXb3JsZDogZmFsc2UsCiAgICAgICAgICAgICAgICAgICAgbm9XcmFwOiBmYWxzZSwKICAgICAgICAgICAgICAgICAgICBhdHRyaWJ1dGlvbjogJ0RhdGEgYnkgPGEgaHJlZj0iaHR0cDovL29wZW5zdHJlZXRtYXAub3JnIj5PcGVuU3RyZWV0TWFwPC9hPiwgdW5kZXIgPGEgaHJlZj0iaHR0cDovL3d3dy5vcGVuc3RyZWV0bWFwLm9yZy9jb3B5cmlnaHQiPk9EYkw8L2E+LicsCiAgICAgICAgICAgICAgICAgICAgZGV0ZWN0UmV0aW5hOiBmYWxzZQogICAgICAgICAgICAgICAgICAgIH0KICAgICAgICAgICAgICAgICkuYWRkVG8obWFwXzYzM2RhZWVkMzJjMDQ1MjU4ZDVlODQ4NjVmZjYxMWY5KTsKCiAgICAgICAgCiAgICAKCiAgICAgICAgICAgIHZhciBtYXJrZXJfYTM5NmI2YTFjZTY4NDdhZmI3Mjk3NTY1Y2EyMjZjODIgPSBMLm1hcmtlcigKICAgICAgICAgICAgICAgIFszOS42NjE4MTMsLTc1Ljc3NTgxN10sCiAgICAgICAgICAgICAgICB7CiAgICAgICAgICAgICAgICAgICAgaWNvbjogbmV3IEwuSWNvbi5EZWZhdWx0KCkKICAgICAgICAgICAgICAgICAgICB9CiAgICAgICAgICAgICAgICApCiAgICAgICAgICAgICAgICAuYWRkVG8obWFwXzYzM2RhZWVkMzJjMDQ1MjU4ZDVlODQ4NjVmZjYxMWY5KTsKICAgICAgICAgICAgCiAgICAKICAgICAgICAgICAgdmFyIHBvcHVwX2M5ZmVmNmMxYThkZjRmNmM5YjY0NGY4ZDdlMTIwMDMzID0gTC5wb3B1cCh7bWF4V2lkdGg6ICczMDAnfSk7CgogICAgICAgICAgICAKICAgICAgICAgICAgICAgIHZhciBodG1sX2MzOTgyOWNlZjFiZTRjNWI5ZmYyNDMwNThiNjdmNjgyID0gJCgnPGRpdiBpZD0iaHRtbF9jMzk4MjljZWYxYmU0YzViOWZmMjQzMDU4YjY3ZjY4MiIgc3R5bGU9IndpZHRoOiAxMDAuMCU7IGhlaWdodDogMTAwLjAlOyI+TmV3YXJrIENoYXJ0ZXIgU2Nob29sPC9kaXY+JylbMF07CiAgICAgICAgICAgICAgICBwb3B1cF9jOWZlZjZjMWE4ZGY0ZjZjOWI2NDRmOGQ3ZTEyMDAzMy5zZXRDb250ZW50KGh0bWxfYzM5ODI5Y2VmMWJlNGM1YjlmZjI0MzA1OGI2N2Y2ODIpOwogICAgICAgICAgICAKCiAgICAgICAgICAgIG1hcmtlcl9hMzk2YjZhMWNlNjg0N2FmYjcyOTc1NjVjYTIyNmM4Mi5iaW5kUG9wdXAocG9wdXBfYzlmZWY2YzFhOGRmNGY2YzliNjQ0ZjhkN2UxMjAwMzMpOwoKICAgICAgICAgICAgCiAgICAgICAgCiAgICAKCiAgICAgICAgICAgIHZhciBtYXJrZXJfOGEzNWVjYmIxMDY3NGU2N2I0OTBiNTY2N2ZkZGU5OTIgPSBMLm1hcmtlcigKICAgICAgICAgICAgICAgIFszOS4xNTcxMTgsLTc1LjUwMzg3NV0sCiAgICAgICAgICAgICAgICB7CiAgICAgICAgICAgICAgICAgICAgaWNvbjogbmV3IEwuSWNvbi5EZWZhdWx0KCkKICAgICAgICAgICAgICAgICAgICB9CiAgICAgICAgICAgICAgICApCiAgICAgICAgICAgICAgICAuYWRkVG8obWFwXzYzM2RhZWVkMzJjMDQ1MjU4ZDVlODQ4NjVmZjYxMWY5KTsKICAgICAgICAgICAgCiAgICAKICAgICAgICAgICAgdmFyIHBvcHVwXzA2YzQzYzdhY2Y0NjQxNTA5ZGExNjc4YTI5OGViY2NkID0gTC5wb3B1cCh7bWF4V2lkdGg6ICczMDAnfSk7CgogICAgICAgICAgICAKICAgICAgICAgICAgICAgIHZhciBodG1sXzlhMDBiZTEwNGQyZTRlOTNhYTY4MDE2ZGJjN2EyYWQzID0gJCgnPGRpdiBpZD0iaHRtbF85YTAwYmUxMDRkMmU0ZTkzYWE2ODAxNmRiYzdhMmFkMyIgc3R5bGU9IndpZHRoOiAxMDAuMCU7IGhlaWdodDogMTAwLjAlOyI+RWFzdCBEb3ZlciBFbGVtZW50YXJ5IFNjaG9vbDwvZGl2PicpWzBdOwogICAgICAgICAgICAgICAgcG9wdXBfMDZjNDNjN2FjZjQ2NDE1MDlkYTE2NzhhMjk4ZWJjY2Quc2V0Q29udGVudChodG1sXzlhMDBiZTEwNGQyZTRlOTNhYTY4MDE2ZGJjN2EyYWQzKTsKICAgICAgICAgICAgCgogICAgICAgICAgICBtYXJrZXJfOGEzNWVjYmIxMDY3NGU2N2I0OTBiNTY2N2ZkZGU5OTIuYmluZFBvcHVwKHBvcHVwXzA2YzQzYzdhY2Y0NjQxNTA5ZGExNjc4YTI5OGViY2NkKTsKCiAgICAgICAgICAgIAogICAgICAgIAogICAgCgogICAgICAgICAgICB2YXIgbWFya2VyX2VhOGM5ZTNiY2MzZDRiMThhYzEzODA3MjkxYzQyYjc3ID0gTC5tYXJrZXIoCiAgICAgICAgICAgICAgICBbMzkuMTE3ODM2LC03NS41NDIwNDZdLAogICAgICAgICAgICAgICAgewogICAgICAgICAgICAgICAgICAgIGljb246IG5ldyBMLkljb24uRGVmYXVsdCgpCiAgICAgICAgICAgICAgICAgICAgfQogICAgICAgICAgICAgICAgKQogICAgICAgICAgICAgICAgLmFkZFRvKG1hcF82MzNkYWVlZDMyYzA0NTI1OGQ1ZTg0ODY1ZmY2MTFmOSk7CiAgICAgICAgICAgIAogICAgCiAgICAgICAgICAgIHZhciBwb3B1cF9kNTJjMTNhNzIzYzA0ZTg2OTkzMjYwMDFmY2Q2ZjUxYiA9IEwucG9wdXAoe21heFdpZHRoOiAnMzAwJ30pOwoKICAgICAgICAgICAgCiAgICAgICAgICAgICAgICB2YXIgaHRtbF9jODg1NDBiYTU0YzY0MTU5OTc5YzZlOWM0Mzc3MGU3NyA9ICQoJzxkaXYgaWQ9Imh0bWxfYzg4NTQwYmE1NGM2NDE1OTk3OWM2ZTljNDM3NzBlNzciIHN0eWxlPSJ3aWR0aDogMTAwLjAlOyBoZWlnaHQ6IDEwMC4wJTsiPkNhZXNhciBSb2RuZXkgSGlnaCBTY2hvb2w8L2Rpdj4nKVswXTsKICAgICAgICAgICAgICAgIHBvcHVwX2Q1MmMxM2E3MjNjMDRlODY5OTMyNjAwMWZjZDZmNTFiLnNldENvbnRlbnQoaHRtbF9jODg1NDBiYTU0YzY0MTU5OTc5YzZlOWM0Mzc3MGU3Nyk7CiAgICAgICAgICAgIAoKICAgICAgICAgICAgbWFya2VyX2VhOGM5ZTNiY2MzZDRiMThhYzEzODA3MjkxYzQyYjc3LmJpbmRQb3B1cChwb3B1cF9kNTJjMTNhNzIzYzA0ZTg2OTkzMjYwMDFmY2Q2ZjUxYik7CgogICAgICAgICAgICAKICAgICAgICAKICAgIAoKICAgICAgICAgICAgdmFyIG1hcmtlcl9kY2FlYTlkMzM5OTQ0ZDZjYWQ4YjBmN2NjNmExYzFmMyA9IEwubWFya2VyKAogICAgICAgICAgICAgICAgWzM5LjY4MDM4OCwtNzUuNjc3OTk2XSwKICAgICAgICAgICAgICAgIHsKICAgICAgICAgICAgICAgICAgICBpY29uOiBuZXcgTC5JY29uLkRlZmF1bHQoKQogICAgICAgICAgICAgICAgICAgIH0KICAgICAgICAgICAgICAgICkKICAgICAgICAgICAgICAgIC5hZGRUbyhtYXBfNjMzZGFlZWQzMmMwNDUyNThkNWU4NDg2NWZmNjExZjkpOwogICAgICAgICAgICAKICAgIAogICAgICAgICAgICB2YXIgcG9wdXBfM2VkMjQ0ODg4YzExNGQ0NzllYzY1YTE5ZmJlNjgyYmIgPSBMLnBvcHVwKHttYXhXaWR0aDogJzMwMCd9KTsKCiAgICAgICAgICAgIAogICAgICAgICAgICAgICAgdmFyIGh0bWxfNmVhYjA2NWM5NDU3NDA4ZWJlMWFmMTFhMGE1ZjA1NzUgPSAkKCc8ZGl2IGlkPSJodG1sXzZlYWIwNjVjOTQ1NzQwOGViZTFhZjExYTBhNWYwNTc1IiBzdHlsZT0id2lkdGg6IDEwMC4wJTsgaGVpZ2h0OiAxMDAuMCU7Ij5HYWxsYWhlciAoUm9iZXJ0IFMuKSBFbGVtZW50YXJ5IFNjaG9vbDwvZGl2PicpWzBdOwogICAgICAgICAgICAgICAgcG9wdXBfM2VkMjQ0ODg4YzExNGQ0NzllYzY1YTE5ZmJlNjgyYmIuc2V0Q29udGVudChodG1sXzZlYWIwNjVjOTQ1NzQwOGViZTFhZjExYTBhNWYwNTc1KTsKICAgICAgICAgICAgCgogICAgICAgICAgICBtYXJrZXJfZGNhZWE5ZDMzOTk0NGQ2Y2FkOGIwZjdjYzZhMWMxZjMuYmluZFBvcHVwKHBvcHVwXzNlZDI0NDg4OGMxMTRkNDc5ZWM2NWExOWZiZTY4MmJiKTsKCiAgICAgICAgICAgIAogICAgICAgIAogICAgCgogICAgICAgICAgICB2YXIgbWFya2VyX2EyMjBhZWI4MTRiZDQ3M2Y4NzQxMzEwYTZlZjk0YWY0ID0gTC5tYXJrZXIoCiAgICAgICAgICAgICAgICBbMzguNjQ3NzQ1LC03NS42MTE1MjJdLAogICAgICAgICAgICAgICAgewogICAgICAgICAgICAgICAgICAgIGljb246IG5ldyBMLkljb24uRGVmYXVsdCgpCiAgICAgICAgICAgICAgICAgICAgfQogICAgICAgICAgICAgICAgKQogICAgICAgICAgICAgICAgLmFkZFRvKG1hcF82MzNkYWVlZDMyYzA0NTI1OGQ1ZTg0ODY1ZmY2MTFmOSk7CiAgICAgICAgICAgIAogICAgCiAgICAgICAgICAgIHZhciBwb3B1cF9lMmFmMDllMDhhMjY0ZDMzODllYjcyZGJmYWQ2NjFiZCA9IEwucG9wdXAoe21heFdpZHRoOiAnMzAwJ30pOwoKICAgICAgICAgICAgCiAgICAgICAgICAgICAgICB2YXIgaHRtbF8wMjc4ZmViMzFmZTg0MGRiYjVhMWU2ZjIwNTBiMGNjNSA9ICQoJzxkaXYgaWQ9Imh0bWxfMDI3OGZlYjMxZmU4NDBkYmI1YTFlNmYyMDUwYjBjYzUiIHN0eWxlPSJ3aWR0aDogMTAwLjAlOyBoZWlnaHQ6IDEwMC4wJTsiPlNlYWZvcmQgTWlkZGxlIFNjaG9vbDwvZGl2PicpWzBdOwogICAgICAgICAgICAgICAgcG9wdXBfZTJhZjA5ZTA4YTI2NGQzMzg5ZWI3MmRiZmFkNjYxYmQuc2V0Q29udGVudChodG1sXzAyNzhmZWIzMWZlODQwZGJiNWExZTZmMjA1MGIwY2M1KTsKICAgICAgICAgICAgCgogICAgICAgICAgICBtYXJrZXJfYTIyMGFlYjgxNGJkNDczZjg3NDEzMTBhNmVmOTRhZjQuYmluZFBvcHVwKHBvcHVwX2UyYWYwOWUwOGEyNjRkMzM4OWViNzJkYmZhZDY2MWJkKTsKCiAgICAgICAgICAgIAogICAgICAgIAogICAgCgogICAgICAgICAgICB2YXIgbWFya2VyXzBiZWRjOTdlMzYwNjRkN2E5ZGQwMDAxZTVhNWExZDUzID0gTC5tYXJrZXIoCiAgICAgICAgICAgICAgICBbMzkuNjc0Njk1LC03NS43NjI0MDRdLAogICAgICAgICAgICAgICAgewogICAgICAgICAgICAgICAgICAgIGljb246IG5ldyBMLkljb24uRGVmYXVsdCgpCiAgICAgICAgICAgICAgICAgICAgfQogICAgICAgICAgICAgICAgKQogICAgICAgICAgICAgICAgLmFkZFRvKG1hcF82MzNkYWVlZDMyYzA0NTI1OGQ1ZTg0ODY1ZmY2MTFmOSk7CiAgICAgICAgICAgIAogICAgCiAgICAgICAgICAgIHZhciBwb3B1cF81OTY1Y2U3OTI5Mjc0NGZjODcxMjU3YWMxODI0NThlZiA9IEwucG9wdXAoe21heFdpZHRoOiAnMzAwJ30pOwoKICAgICAgICAgICAgCiAgICAgICAgICAgICAgICB2YXIgaHRtbF82MmM0ZGRhMDczN2U0NjlmODAwY2JiYjgyMjEzYjBkYSA9ICQoJzxkaXYgaWQ9Imh0bWxfNjJjNGRkYTA3MzdlNDY5ZjgwMGNiYmI4MjIxM2IwZGEiIHN0eWxlPSJ3aWR0aDogMTAwLjAlOyBoZWlnaHQ6IDEwMC4wJTsiPldlc3QgUGFyayBQbGFjZSBFbGVtZW50YXJ5IFNjaG9vbDwvZGl2PicpWzBdOwogICAgICAgICAgICAgICAgcG9wdXBfNTk2NWNlNzkyOTI3NDRmYzg3MTI1N2FjMTgyNDU4ZWYuc2V0Q29udGVudChodG1sXzYyYzRkZGEwNzM3ZTQ2OWY4MDBjYmJiODIyMTNiMGRhKTsKICAgICAgICAgICAgCgogICAgICAgICAgICBtYXJrZXJfMGJlZGM5N2UzNjA2NGQ3YTlkZDAwMDFlNWE1YTFkNTMuYmluZFBvcHVwKHBvcHVwXzU5NjVjZTc5MjkyNzQ0ZmM4NzEyNTdhYzE4MjQ1OGVmKTsKCiAgICAgICAgICAgIAogICAgICAgIAogICAgCgogICAgICAgICAgICB2YXIgbWFya2VyXzZlYWJlNmY1N2Q2MzQ2MmJiMjZjMTYzY2EwYWUwNzJiID0gTC5tYXJrZXIoCiAgICAgICAgICAgICAgICBbMzguNTQ3MjE1LC03NS41Njk0MjVdLAogICAgICAgICAgICAgICAgewogICAgICAgICAgICAgICAgICAgIGljb246IG5ldyBMLkljb24uRGVmYXVsdCgpCiAgICAgICAgICAgICAgICAgICAgfQogICAgICAgICAgICAgICAgKQogICAgICAgICAgICAgICAgLmFkZFRvKG1hcF82MzNkYWVlZDMyYzA0NTI1OGQ1ZTg0ODY1ZmY2MTFmOSk7CiAgICAgICAgICAgIAogICAgCiAgICAgICAgICAgIHZhciBwb3B1cF84NjgwNmE4NDM5NmU0ZWM1YWQzMGQ4YzhjY2I5MDYzYiA9IEwucG9wdXAoe21heFdpZHRoOiAnMzAwJ30pOwoKICAgICAgICAgICAgCiAgICAgICAgICAgICAgICB2YXIgaHRtbF9hZGRlZmMxNjc0NTE0NzkxODVkMmMzZTBmOTQxOTA3YyA9ICQoJzxkaXYgaWQ9Imh0bWxfYWRkZWZjMTY3NDUxNDc5MTg1ZDJjM2UwZjk0MTkwN2MiIHN0eWxlPSJ3aWR0aDogMTAwLjAlOyBoZWlnaHQ6IDEwMC4wJTsiPkxhdXJlbCBTZW5pb3IgSGlnaCBTY2hvb2w8L2Rpdj4nKVswXTsKICAgICAgICAgICAgICAgIHBvcHVwXzg2ODA2YTg0Mzk2ZTRlYzVhZDMwZDhjOGNjYjkwNjNiLnNldENvbnRlbnQoaHRtbF9hZGRlZmMxNjc0NTE0NzkxODVkMmMzZTBmOTQxOTA3Yyk7CiAgICAgICAgICAgIAoKICAgICAgICAgICAgbWFya2VyXzZlYWJlNmY1N2Q2MzQ2MmJiMjZjMTYzY2EwYWUwNzJiLmJpbmRQb3B1cChwb3B1cF84NjgwNmE4NDM5NmU0ZWM1YWQzMGQ4YzhjY2I5MDYzYik7CgogICAgICAgICAgICAKICAgICAgICAKICAgIAoKICAgICAgICAgICAgdmFyIG1hcmtlcl81NGZmZmUwNjRlNTM0NTZkOGIyM2Y1MzI4MzY0MGJjMSA9IEwubWFya2VyKAogICAgICAgICAgICAgICAgWzM4LjcxNTM0MiwtNzUuMTUwNjkyXSwKICAgICAgICAgICAgICAgIHsKICAgICAgICAgICAgICAgICAgICBpY29uOiBuZXcgTC5JY29uLkRlZmF1bHQoKQogICAgICAgICAgICAgICAgICAgIH0KICAgICAgICAgICAgICAgICkKICAgICAgICAgICAgICAgIC5hZGRUbyhtYXBfNjMzZGFlZWQzMmMwNDUyNThkNWU4NDg2NWZmNjExZjkpOwogICAgICAgICAgICAKICAgIAogICAgICAgICAgICB2YXIgcG9wdXBfMjk2NDZmOTA2MmIwNGQzMWFjYjE5N2FjYTk4MDRlODMgPSBMLnBvcHVwKHttYXhXaWR0aDogJzMwMCd9KTsKCiAgICAgICAgICAgIAogICAgICAgICAgICAgICAgdmFyIGh0bWxfOTM3OTIyOTQ3MTc1NGI1NjkzODBiNGFmY2ZjMjY2YWQgPSAkKCc8ZGl2IGlkPSJodG1sXzkzNzkyMjk0NzE3NTRiNTY5MzgwYjRhZmNmYzI2NmFkIiBzdHlsZT0id2lkdGg6IDEwMC4wJTsgaGVpZ2h0OiAxMDAuMCU7Ij5CZWFjb24gTWlkZGxlIFNjaG9vbDwvZGl2PicpWzBdOwogICAgICAgICAgICAgICAgcG9wdXBfMjk2NDZmOTA2MmIwNGQzMWFjYjE5N2FjYTk4MDRlODMuc2V0Q29udGVudChodG1sXzkzNzkyMjk0NzE3NTRiNTY5MzgwYjRhZmNmYzI2NmFkKTsKICAgICAgICAgICAgCgogICAgICAgICAgICBtYXJrZXJfNTRmZmZlMDY0ZTUzNDU2ZDhiMjNmNTMyODM2NDBiYzEuYmluZFBvcHVwKHBvcHVwXzI5NjQ2ZjkwNjJiMDRkMzFhY2IxOTdhY2E5ODA0ZTgzKTsKCiAgICAgICAgICAgIAogICAgICAgIAogICAgCgogICAgICAgICAgICB2YXIgbWFya2VyXzQ2NjY5MjAzY2M1MzRjNWQ4ZmQzODkzZGNmYjY3MGZiID0gTC5tYXJrZXIoCiAgICAgICAgICAgICAgICBbMzkuNzg1NzkxLC03NS41MzY1XSwKICAgICAgICAgICAgICAgIHsKICAgICAgICAgICAgICAgICAgICBpY29uOiBuZXcgTC5JY29uLkRlZmF1bHQoKQogICAgICAgICAgICAgICAgICAgIH0KICAgICAgICAgICAgICAgICkKICAgICAgICAgICAgICAgIC5hZGRUbyhtYXBfNjMzZGFlZWQzMmMwNDUyNThkNWU4NDg2NWZmNjExZjkpOwogICAgICAgICAgICAKICAgIAogICAgICAgICAgICB2YXIgcG9wdXBfNDkyNjUzZTYzYTk1NDRlMWE4YzhhNjVmNDIwNmE4YWIgPSBMLnBvcHVwKHttYXhXaWR0aDogJzMwMCd9KTsKCiAgICAgICAgICAgIAogICAgICAgICAgICAgICAgdmFyIGh0bWxfNjYzMzIyYjkyMjY2NDdkYmJmNDZlNmY5ZGZmYzYzZmMgPSAkKCc8ZGl2IGlkPSJodG1sXzY2MzMyMmI5MjI2NjQ3ZGJiZjQ2ZTZmOWRmZmM2M2ZjIiBzdHlsZT0id2lkdGg6IDEwMC4wJTsgaGVpZ2h0OiAxMDAuMCU7Ij5Mb21iYXJkeSBFbGVtZW50YXJ5IFNjaG9vbDwvZGl2PicpWzBdOwogICAgICAgICAgICAgICAgcG9wdXBfNDkyNjUzZTYzYTk1NDRlMWE4YzhhNjVmNDIwNmE4YWIuc2V0Q29udGVudChodG1sXzY2MzMyMmI5MjI2NjQ3ZGJiZjQ2ZTZmOWRmZmM2M2ZjKTsKICAgICAgICAgICAgCgogICAgICAgICAgICBtYXJrZXJfNDY2NjkyMDNjYzUzNGM1ZDhmZDM4OTNkY2ZiNjcwZmIuYmluZFBvcHVwKHBvcHVwXzQ5MjY1M2U2M2E5NTQ0ZTFhOGM4YTY1ZjQyMDZhOGFiKTsKCiAgICAgICAgICAgIAogICAgICAgIAogICAgCgogICAgICAgICAgICB2YXIgbWFya2VyX2Q1YTJjZTE2MTk3NzRmODE5MmRlNmJlNWVkOGQ3NjQyID0gTC5tYXJrZXIoCiAgICAgICAgICAgICAgICBbMzkuNDQ3NjQxLC03NS42OTU4NjldLAogICAgICAgICAgICAgICAgewogICAgICAgICAgICAgICAgICAgIGljb246IG5ldyBMLkljb24uRGVmYXVsdCgpCiAgICAgICAgICAgICAgICAgICAgfQogICAgICAgICAgICAgICAgKQogICAgICAgICAgICAgICAgLmFkZFRvKG1hcF82MzNkYWVlZDMyYzA0NTI1OGQ1ZTg0ODY1ZmY2MTFmOSk7CiAgICAgICAgICAgIAogICAgCiAgICAgICAgICAgIHZhciBwb3B1cF9mNTMyNDg0NDZkNjI0M2YzOWYzZmRkYTBjNTk4YWI0ZCA9IEwucG9wdXAoe21heFdpZHRoOiAnMzAwJ30pOwoKICAgICAgICAgICAgCiAgICAgICAgICAgICAgICB2YXIgaHRtbF9mZDNhNTExYWY1MmY0ZDUwOWI2MTY4YjIzMjQxZDE1ZiA9ICQoJzxkaXYgaWQ9Imh0bWxfZmQzYTUxMWFmNTJmNGQ1MDliNjE2OGIyMzI0MWQxNWYiIHN0eWxlPSJ3aWR0aDogMTAwLjAlOyBoZWlnaHQ6IDEwMC4wJTsiPk1pZGRsZXRvd24gSGlnaCBTY2hvb2w8L2Rpdj4nKVswXTsKICAgICAgICAgICAgICAgIHBvcHVwX2Y1MzI0ODQ0NmQ2MjQzZjM5ZjNmZGRhMGM1OThhYjRkLnNldENvbnRlbnQoaHRtbF9mZDNhNTExYWY1MmY0ZDUwOWI2MTY4YjIzMjQxZDE1Zik7CiAgICAgICAgICAgIAoKICAgICAgICAgICAgbWFya2VyX2Q1YTJjZTE2MTk3NzRmODE5MmRlNmJlNWVkOGQ3NjQyLmJpbmRQb3B1cChwb3B1cF9mNTMyNDg0NDZkNjI0M2YzOWYzZmRkYTBjNTk4YWI0ZCk7CgogICAgICAgICAgICAKICAgICAgICAKICAgIAoKICAgICAgICAgICAgdmFyIG1hcmtlcl9mZmE0NzhmOWE4YWM0OTY4YTY1NDdmN2VhN2Y1MjZkZiA9IEwubWFya2VyKAogICAgICAgICAgICAgICAgWzM4LjYzMDEzMywtNzUuNjA2NzddLAogICAgICAgICAgICAgICAgewogICAgICAgICAgICAgICAgICAgIGljb246IG5ldyBMLkljb24uRGVmYXVsdCgpCiAgICAgICAgICAgICAgICAgICAgfQogICAgICAgICAgICAgICAgKQogICAgICAgICAgICAgICAgLmFkZFRvKG1hcF82MzNkYWVlZDMyYzA0NTI1OGQ1ZTg0ODY1ZmY2MTFmOSk7CiAgICAgICAgICAgIAogICAgCiAgICAgICAgICAgIHZhciBwb3B1cF9mOWI1NWU5Y2EzYTU0ZTM1ODMyZDRjNGM2ZTdiMzgzMCA9IEwucG9wdXAoe21heFdpZHRoOiAnMzAwJ30pOwoKICAgICAgICAgICAgCiAgICAgICAgICAgICAgICB2YXIgaHRtbF8zNjJhMGVlYTA4Yjc0OTkzODM2YTY0YWM4NzVhNTJlOSA9ICQoJzxkaXYgaWQ9Imh0bWxfMzYyYTBlZWEwOGI3NDk5MzgzNmE2NGFjODc1YTUyZTkiIHN0eWxlPSJ3aWR0aDogMTAwLjAlOyBoZWlnaHQ6IDEwMC4wJTsiPkJsYWRlcyBFbGVtZW50YXJ5IFNjaG9vbDwvZGl2PicpWzBdOwogICAgICAgICAgICAgICAgcG9wdXBfZjliNTVlOWNhM2E1NGUzNTgzMmQ0YzRjNmU3YjM4MzAuc2V0Q29udGVudChodG1sXzM2MmEwZWVhMDhiNzQ5OTM4MzZhNjRhYzg3NWE1MmU5KTsKICAgICAgICAgICAgCgogICAgICAgICAgICBtYXJrZXJfZmZhNDc4ZjlhOGFjNDk2OGE2NTQ3ZjdlYTdmNTI2ZGYuYmluZFBvcHVwKHBvcHVwX2Y5YjU1ZTljYTNhNTRlMzU4MzJkNGM0YzZlN2IzODMwKTsKCiAgICAgICAgICAgIAogICAgICAgIAogICAgCgogICAgICAgICAgICB2YXIgbWFya2VyXzM0Y2ZmN2U4Nzg3NzQwZjFiOTMxODM5NGZlNmVlOTliID0gTC5tYXJrZXIoCiAgICAgICAgICAgICAgICBbMzkuNjYxODEzLC03NS43NzU4MTddLAogICAgICAgICAgICAgICAgewogICAgICAgICAgICAgICAgICAgIGljb246IG5ldyBMLkljb24uRGVmYXVsdCgpCiAgICAgICAgICAgICAgICAgICAgfQogICAgICAgICAgICAgICAgKQogICAgICAgICAgICAgICAgLmFkZFRvKG1hcF82MzNkYWVlZDMyYzA0NTI1OGQ1ZTg0ODY1ZmY2MTFmOSk7CiAgICAgICAgICAgIAogICAgCiAgICAgICAgICAgIHZhciBwb3B1cF9jY2NjMDg4MTczYWM0MzhkYjZhYTMzODIxNTE3NWZlMiA9IEwucG9wdXAoe21heFdpZHRoOiAnMzAwJ30pOwoKICAgICAgICAgICAgCiAgICAgICAgICAgICAgICB2YXIgaHRtbF9mNDJmYTViNGFhYzk0ZTcwOGIzNWFmMGM3NzVlOWM5YiA9ICQoJzxkaXYgaWQ9Imh0bWxfZjQyZmE1YjRhYWM5NGU3MDhiMzVhZjBjNzc1ZTljOWIiIHN0eWxlPSJ3aWR0aDogMTAwLjAlOyBoZWlnaHQ6IDEwMC4wJTsiPk5ld2FyayBDaGFydGVyIFNjaG9vbDwvZGl2PicpWzBdOwogICAgICAgICAgICAgICAgcG9wdXBfY2NjYzA4ODE3M2FjNDM4ZGI2YWEzMzgyMTUxNzVmZTIuc2V0Q29udGVudChodG1sX2Y0MmZhNWI0YWFjOTRlNzA4YjM1YWYwYzc3NWU5YzliKTsKICAgICAgICAgICAgCgogICAgICAgICAgICBtYXJrZXJfMzRjZmY3ZTg3ODc3NDBmMWI5MzE4Mzk0ZmU2ZWU5OWIuYmluZFBvcHVwKHBvcHVwX2NjY2MwODgxNzNhYzQzOGRiNmFhMzM4MjE1MTc1ZmUyKTsKCiAgICAgICAgICAgIAogICAgICAgIAogICAgCgogICAgICAgICAgICB2YXIgbWFya2VyXzgwNDNhNDAzNmI1ODQxNDg5NTgzOGFhOGU2NzBiYjUwID0gTC5tYXJrZXIoCiAgICAgICAgICAgICAgICBbMzkuNjc3MzU5LC03NS41ODgyMjFdLAogICAgICAgICAgICAgICAgewogICAgICAgICAgICAgICAgICAgIGljb246IG5ldyBMLkljb24uRGVmYXVsdCgpCiAgICAgICAgICAgICAgICAgICAgfQogICAgICAgICAgICAgICAgKQogICAgICAgICAgICAgICAgLmFkZFRvKG1hcF82MzNkYWVlZDMyYzA0NTI1OGQ1ZTg0ODY1ZmY2MTFmOSk7CiAgICAgICAgICAgIAogICAgCiAgICAgICAgICAgIHZhciBwb3B1cF9mZmQ3OWI4YzI3MDk0NDk5OGE3M2Q0NTRiMGNkYzFlYyA9IEwucG9wdXAoe21heFdpZHRoOiAnMzAwJ30pOwoKICAgICAgICAgICAgCiAgICAgICAgICAgICAgICB2YXIgaHRtbF9hMWEyZDZiNWI1MTU0MGMyOTRiYjNmYWY2MGNmZGU4NCA9ICQoJzxkaXYgaWQ9Imh0bWxfYTFhMmQ2YjViNTE1NDBjMjk0YmIzZmFmNjBjZmRlODQiIHN0eWxlPSJ3aWR0aDogMTAwLjAlOyBoZWlnaHQ6IDEwMC4wJTsiPlJlYWQgKEdlb3JnZSkgTWlkZGxlIFNjaG9vbDwvZGl2PicpWzBdOwogICAgICAgICAgICAgICAgcG9wdXBfZmZkNzliOGMyNzA5NDQ5OThhNzNkNDU0YjBjZGMxZWMuc2V0Q29udGVudChodG1sX2ExYTJkNmI1YjUxNTQwYzI5NGJiM2ZhZjYwY2ZkZTg0KTsKICAgICAgICAgICAgCgogICAgICAgICAgICBtYXJrZXJfODA0M2E0MDM2YjU4NDE0ODk1ODM4YWE4ZTY3MGJiNTAuYmluZFBvcHVwKHBvcHVwX2ZmZDc5YjhjMjcwOTQ0OTk4YTczZDQ1NGIwY2RjMWVjKTsKCiAgICAgICAgICAgIAogICAgICAgIAogICAgCgogICAgICAgICAgICB2YXIgbWFya2VyXzk1YzA5NDFlOGU5MTRhNjZiZmEwMDk5Y2VhNDE2NDgwID0gTC5tYXJrZXIoCiAgICAgICAgICAgICAgICBbMzkuMTMyNTA3LC03NS41Mzg3OTVdLAogICAgICAgICAgICAgICAgewogICAgICAgICAgICAgICAgICAgIGljb246IG5ldyBMLkljb24uRGVmYXVsdCgpCiAgICAgICAgICAgICAgICAgICAgfQogICAgICAgICAgICAgICAgKQogICAgICAgICAgICAgICAgLmFkZFRvKG1hcF82MzNkYWVlZDMyYzA0NTI1OGQ1ZTg0ODY1ZmY2MTFmOSk7CiAgICAgICAgICAgIAogICAgCiAgICAgICAgICAgIHZhciBwb3B1cF8wMzg4ODY0MDEyNDU0MWY0YWQxMWI3NGE5NWU1OTQ5YiA9IEwucG9wdXAoe21heFdpZHRoOiAnMzAwJ30pOwoKICAgICAgICAgICAgCiAgICAgICAgICAgICAgICB2YXIgaHRtbF8zZGU3MGViYmNjM2M0MGYxOGFiMzdlODljODM3NmQ3OCA9ICQoJzxkaXYgaWQ9Imh0bWxfM2RlNzBlYmJjYzNjNDBmMThhYjM3ZTg5YzgzNzZkNzgiIHN0eWxlPSJ3aWR0aDogMTAwLjAlOyBoZWlnaHQ6IDEwMC4wJTsiPlcuIFJlaWx5IEJyb3duIEVsZW1lbnRhcnkgU2Nob29sPC9kaXY+JylbMF07CiAgICAgICAgICAgICAgICBwb3B1cF8wMzg4ODY0MDEyNDU0MWY0YWQxMWI3NGE5NWU1OTQ5Yi5zZXRDb250ZW50KGh0bWxfM2RlNzBlYmJjYzNjNDBmMThhYjM3ZTg5YzgzNzZkNzgpOwogICAgICAgICAgICAKCiAgICAgICAgICAgIG1hcmtlcl85NWMwOTQxZThlOTE0YTY2YmZhMDA5OWNlYTQxNjQ4MC5iaW5kUG9wdXAocG9wdXBfMDM4ODg2NDAxMjQ1NDFmNGFkMTFiNzRhOTVlNTk0OWIpOwoKICAgICAgICAgICAgCiAgICAgICAgCiAgICAKCiAgICAgICAgICAgIHZhciBtYXJrZXJfNTVmOTFkMzU4NTM0NGE4MWEwMTA5MGViYjYxNGFhYjMgPSBMLm1hcmtlcigKICAgICAgICAgICAgICAgIFszOC43Njc4NjgsLTc1LjE0NzI0XSwKICAgICAgICAgICAgICAgIHsKICAgICAgICAgICAgICAgICAgICBpY29uOiBuZXcgTC5JY29uLkRlZmF1bHQoKQogICAgICAgICAgICAgICAgICAgIH0KICAgICAgICAgICAgICAgICkKICAgICAgICAgICAgICAgIC5hZGRUbyhtYXBfNjMzZGFlZWQzMmMwNDUyNThkNWU4NDg2NWZmNjExZjkpOwogICAgICAgICAgICAKICAgIAogICAgICAgICAgICB2YXIgcG9wdXBfMjY4Yzg5OGE4YjFmNDU4Mjk0ZmE4YWM5NDMyNGEyNWIgPSBMLnBvcHVwKHttYXhXaWR0aDogJzMwMCd9KTsKCiAgICAgICAgICAgIAogICAgICAgICAgICAgICAgdmFyIGh0bWxfZWMwZWI2OWRiNzBjNGZlYWExMWRlNTRkYWFhYmY1YzIgPSAkKCc8ZGl2IGlkPSJodG1sX2VjMGViNjlkYjcwYzRmZWFhMTFkZTU0ZGFhYWJmNWMyIiBzdHlsZT0id2lkdGg6IDEwMC4wJTsgaGVpZ2h0OiAxMDAuMCU7Ij5TaGllbGRzIChSaWNoYXJkIEEuKSBFbGVtZW50YXJ5IFNjaG9vbDwvZGl2PicpWzBdOwogICAgICAgICAgICAgICAgcG9wdXBfMjY4Yzg5OGE4YjFmNDU4Mjk0ZmE4YWM5NDMyNGEyNWIuc2V0Q29udGVudChodG1sX2VjMGViNjlkYjcwYzRmZWFhMTFkZTU0ZGFhYWJmNWMyKTsKICAgICAgICAgICAgCgogICAgICAgICAgICBtYXJrZXJfNTVmOTFkMzU4NTM0NGE4MWEwMTA5MGViYjYxNGFhYjMuYmluZFBvcHVwKHBvcHVwXzI2OGM4OThhOGIxZjQ1ODI5NGZhOGFjOTQzMjRhMjViKTsKCiAgICAgICAgICAgIAogICAgICAgIAogICAgCgogICAgICAgICAgICB2YXIgbWFya2VyXzNiNjhlN2FlZDQ0YTRlMTBiZDczMmU1N2JiNGViMzkzID0gTC5tYXJrZXIoCiAgICAgICAgICAgICAgICBbMzguOTI5ODI5LC03NS40Mjk0MDNdLAogICAgICAgICAgICAgICAgewogICAgICAgICAgICAgICAgICAgIGljb246IG5ldyBMLkljb24uRGVmYXVsdCgpCiAgICAgICAgICAgICAgICAgICAgfQogICAgICAgICAgICAgICAgKQogICAgICAgICAgICAgICAgLmFkZFRvKG1hcF82MzNkYWVlZDMyYzA0NTI1OGQ1ZTg0ODY1ZmY2MTFmOSk7CiAgICAgICAgICAgIAogICAgCiAgICAgICAgICAgIHZhciBwb3B1cF80NDFiZjc2MzM4MzM0ZWQ4YTU2ZDdlNGRlYjljMGIyMSA9IEwucG9wdXAoe21heFdpZHRoOiAnMzAwJ30pOwoKICAgICAgICAgICAgCiAgICAgICAgICAgICAgICB2YXIgaHRtbF9mZGY1MzcwMDlmZjk0YzdhYTNiNTEzOTYxOTQxYjI5NiA9ICQoJzxkaXYgaWQ9Imh0bWxfZmRmNTM3MDA5ZmY5NGM3YWEzYjUxMzk2MTk0MWIyOTYiIHN0eWxlPSJ3aWR0aDogMTAwLjAlOyBoZWlnaHQ6IDEwMC4wJTsiPk1pbGZvcmQgQ2VudHJhbCBBY2FkZW15PC9kaXY+JylbMF07CiAgICAgICAgICAgICAgICBwb3B1cF80NDFiZjc2MzM4MzM0ZWQ4YTU2ZDdlNGRlYjljMGIyMS5zZXRDb250ZW50KGh0bWxfZmRmNTM3MDA5ZmY5NGM3YWEzYjUxMzk2MTk0MWIyOTYpOwogICAgICAgICAgICAKCiAgICAgICAgICAgIG1hcmtlcl8zYjY4ZTdhZWQ0NGE0ZTEwYmQ3MzJlNTdiYjRlYjM5My5iaW5kUG9wdXAocG9wdXBfNDQxYmY3NjMzODMzNGVkOGE1NmQ3ZTRkZWI5YzBiMjEpOwoKICAgICAgICAgICAgCiAgICAgICAgCiAgICAKCiAgICAgICAgICAgIHZhciBtYXJrZXJfNWMwNTY5MjVkNjJkNGE5MmE1NTg4Mzc1ZmYwM2MwODYgPSBMLm1hcmtlcigKICAgICAgICAgICAgICAgIFszOS43MzU5NDMsLTc1LjYzNjkyNl0sCiAgICAgICAgICAgICAgICB7CiAgICAgICAgICAgICAgICAgICAgaWNvbjogbmV3IEwuSWNvbi5EZWZhdWx0KCkKICAgICAgICAgICAgICAgICAgICB9CiAgICAgICAgICAgICAgICApCiAgICAgICAgICAgICAgICAuYWRkVG8obWFwXzYzM2RhZWVkMzJjMDQ1MjU4ZDVlODQ4NjVmZjYxMWY5KTsKICAgICAgICAgICAgCiAgICAKICAgICAgICAgICAgdmFyIHBvcHVwXzFlYzAxZDZhNGI3ZTQ2YzNhZDVmOWZhNzIyNzYzODNmID0gTC5wb3B1cCh7bWF4V2lkdGg6ICczMDAnfSk7CgogICAgICAgICAgICAKICAgICAgICAgICAgICAgIHZhciBodG1sXzdmODBiMTU3MDMyOTQ1ZGNiYmViMmFjYTA2N2QxMGI4ID0gJCgnPGRpdiBpZD0iaHRtbF83ZjgwYjE1NzAzMjk0NWRjYmJlYjJhY2EwNjdkMTBiOCIgc3R5bGU9IndpZHRoOiAxMDAuMCU7IGhlaWdodDogMTAwLjAlOyI+TW90ZSAoQW5uYSBQLikgRWxlbWVudGFyeSBTY2hvb2w8L2Rpdj4nKVswXTsKICAgICAgICAgICAgICAgIHBvcHVwXzFlYzAxZDZhNGI3ZTQ2YzNhZDVmOWZhNzIyNzYzODNmLnNldENvbnRlbnQoaHRtbF83ZjgwYjE1NzAzMjk0NWRjYmJlYjJhY2EwNjdkMTBiOCk7CiAgICAgICAgICAgIAoKICAgICAgICAgICAgbWFya2VyXzVjMDU2OTI1ZDYyZDRhOTJhNTU4ODM3NWZmMDNjMDg2LmJpbmRQb3B1cChwb3B1cF8xZWMwMWQ2YTRiN2U0NmMzYWQ1ZjlmYTcyMjc2MzgzZik7CgogICAgICAgICAgICAKICAgICAgICAKICAgIAoKICAgICAgICAgICAgdmFyIG1hcmtlcl9kM2QwMzgxMTk0MzA0YTM0YTZhNTI4YzZmNzQwMjQ0OSA9IEwubWFya2VyKAogICAgICAgICAgICAgICAgWzM5LjI3MjU2MywtNzUuNjEyNzFdLAogICAgICAgICAgICAgICAgewogICAgICAgICAgICAgICAgICAgIGljb246IG5ldyBMLkljb24uRGVmYXVsdCgpCiAgICAgICAgICAgICAgICAgICAgfQogICAgICAgICAgICAgICAgKQogICAgICAgICAgICAgICAgLmFkZFRvKG1hcF82MzNkYWVlZDMyYzA0NTI1OGQ1ZTg0ODY1ZmY2MTFmOSk7CiAgICAgICAgICAgIAogICAgCiAgICAgICAgICAgIHZhciBwb3B1cF81ZjFmZjM5ZWExYjE0OWIwYTE0NDIwZjIzMDljYjEyYyA9IEwucG9wdXAoe21heFdpZHRoOiAnMzAwJ30pOwoKICAgICAgICAgICAgCiAgICAgICAgICAgICAgICB2YXIgaHRtbF82ZDRhZGY5OTNkZTE0OTMxOGI5ODA4M2MwNzYyZmFkYiA9ICQoJzxkaXYgaWQ9Imh0bWxfNmQ0YWRmOTkzZGUxNDkzMThiOTgwODNjMDc2MmZhZGIiIHN0eWxlPSJ3aWR0aDogMTAwLjAlOyBoZWlnaHQ6IDEwMC4wJTsiPlN1bm55c2lkZSBFbGVtZW50YXJ5IFNjaG9vbDwvZGl2PicpWzBdOwogICAgICAgICAgICAgICAgcG9wdXBfNWYxZmYzOWVhMWIxNDliMGExNDQyMGYyMzA5Y2IxMmMuc2V0Q29udGVudChodG1sXzZkNGFkZjk5M2RlMTQ5MzE4Yjk4MDgzYzA3NjJmYWRiKTsKICAgICAgICAgICAgCgogICAgICAgICAgICBtYXJrZXJfZDNkMDM4MTE5NDMwNGEzNGE2YTUyOGM2Zjc0MDI0NDkuYmluZFBvcHVwKHBvcHVwXzVmMWZmMzllYTFiMTQ5YjBhMTQ0MjBmMjMwOWNiMTJjKTsKCiAgICAgICAgICAgIAogICAgICAgIAogICAgCgogICAgICAgICAgICB2YXIgbWFya2VyX2ZiODUxZjZmNmMyOTRiYjE4N2E2MjM5OWMyOTJiOTUxID0gTC5tYXJrZXIoCiAgICAgICAgICAgICAgICBbMzkuNzIyMTExLC03NS42ODQ1MDFdLAogICAgICAgICAgICAgICAgewogICAgICAgICAgICAgICAgICAgIGljb246IG5ldyBMLkljb24uRGVmYXVsdCgpCiAgICAgICAgICAgICAgICAgICAgfQogICAgICAgICAgICAgICAgKQogICAgICAgICAgICAgICAgLmFkZFRvKG1hcF82MzNkYWVlZDMyYzA0NTI1OGQ1ZTg0ODY1ZmY2MTFmOSk7CiAgICAgICAgICAgIAogICAgCiAgICAgICAgICAgIHZhciBwb3B1cF9kZjYxYjljMjFlODI0Y2ExYWM0ZTNiMmEyOGVjMjU0YyA9IEwucG9wdXAoe21heFdpZHRoOiAnMzAwJ30pOwoKICAgICAgICAgICAgCiAgICAgICAgICAgICAgICB2YXIgaHRtbF9jOWI4YmYwOGNhZjI0MmNiYTkwNjI4ZDQ0ZjhlODFjYyA9ICQoJzxkaXYgaWQ9Imh0bWxfYzliOGJmMDhjYWYyNDJjYmE5MDYyOGQ0NGY4ZTgxY2MiIHN0eWxlPSJ3aWR0aDogMTAwLjAlOyBoZWlnaHQ6IDEwMC4wJTsiPkhlcml0YWdlIEVsZW1lbnRhcnkgU2Nob29sPC9kaXY+JylbMF07CiAgICAgICAgICAgICAgICBwb3B1cF9kZjYxYjljMjFlODI0Y2ExYWM0ZTNiMmEyOGVjMjU0Yy5zZXRDb250ZW50KGh0bWxfYzliOGJmMDhjYWYyNDJjYmE5MDYyOGQ0NGY4ZTgxY2MpOwogICAgICAgICAgICAKCiAgICAgICAgICAgIG1hcmtlcl9mYjg1MWY2ZjZjMjk0YmIxODdhNjIzOTljMjkyYjk1MS5iaW5kUG9wdXAocG9wdXBfZGY2MWI5YzIxZTgyNGNhMWFjNGUzYjJhMjhlYzI1NGMpOwoKICAgICAgICAgICAgCiAgICAgICAgCiAgICAKCiAgICAgICAgICAgIHZhciBtYXJrZXJfNzE2MTc2MzM2MzQ2NGJiMTgwMzhhN2Y4MGJmZjY0MzQgPSBMLm1hcmtlcigKICAgICAgICAgICAgICAgIFszOS42ODMyNDQsLTc1Ljc3NTUwNF0sCiAgICAgICAgICAgICAgICB7CiAgICAgICAgICAgICAgICAgICAgaWNvbjogbmV3IEwuSWNvbi5EZWZhdWx0KCkKICAgICAgICAgICAgICAgICAgICB9CiAgICAgICAgICAgICAgICApCiAgICAgICAgICAgICAgICAuYWRkVG8obWFwXzYzM2RhZWVkMzJjMDQ1MjU4ZDVlODQ4NjVmZjYxMWY5KTsKICAgICAgICAgICAgCiAgICAKICAgICAgICAgICAgdmFyIHBvcHVwXzhmNGZkN2JkOTM0ZjRiZjE5ZjZmMWExN2E1YTc2NWFjID0gTC5wb3B1cCh7bWF4V2lkdGg6ICczMDAnfSk7CgogICAgICAgICAgICAKICAgICAgICAgICAgICAgIHZhciBodG1sXzNiNjU4MjA3Njk1ZTQ4N2NhMWRiNjkwZGRiZDYzYTY1ID0gJCgnPGRpdiBpZD0iaHRtbF8zYjY1ODIwNzY5NWU0ODdjYTFkYjY5MGRkYmQ2M2E2NSIgc3R5bGU9IndpZHRoOiAxMDAuMCU7IGhlaWdodDogMTAwLjAlOyI+RG93bmVzIChKb2huIFIuKSBFbGVtZW50YXJ5IFNjaG9vbDwvZGl2PicpWzBdOwogICAgICAgICAgICAgICAgcG9wdXBfOGY0ZmQ3YmQ5MzRmNGJmMTlmNmYxYTE3YTVhNzY1YWMuc2V0Q29udGVudChodG1sXzNiNjU4MjA3Njk1ZTQ4N2NhMWRiNjkwZGRiZDYzYTY1KTsKICAgICAgICAgICAgCgogICAgICAgICAgICBtYXJrZXJfNzE2MTc2MzM2MzQ2NGJiMTgwMzhhN2Y4MGJmZjY0MzQuYmluZFBvcHVwKHBvcHVwXzhmNGZkN2JkOTM0ZjRiZjE5ZjZmMWExN2E1YTc2NWFjKTsKCiAgICAgICAgICAgIAogICAgICAgIAogICAgCgogICAgICAgICAgICB2YXIgbWFya2VyX2U5MTZiZWJkNGUzMzRlODliMmY0NTRlMjM3ODQ5OTUwID0gTC5tYXJrZXIoCiAgICAgICAgICAgICAgICBbMzkuMTE4ODgsLTc1LjU1MDAxXSwKICAgICAgICAgICAgICAgIHsKICAgICAgICAgICAgICAgICAgICBpY29uOiBuZXcgTC5JY29uLkRlZmF1bHQoKQogICAgICAgICAgICAgICAgICAgIH0KICAgICAgICAgICAgICAgICkKICAgICAgICAgICAgICAgIC5hZGRUbyhtYXBfNjMzZGFlZWQzMmMwNDUyNThkNWU4NDg2NWZmNjExZjkpOwogICAgICAgICAgICAKICAgIAogICAgICAgICAgICB2YXIgcG9wdXBfNTc1NzAxN2I4Njk2NDQ3YWFjZmVlOTZlNzViMDU1MWIgPSBMLnBvcHVwKHttYXhXaWR0aDogJzMwMCd9KTsKCiAgICAgICAgICAgIAogICAgICAgICAgICAgICAgdmFyIGh0bWxfYzVjMTk3MmFjYjlhNDRkY2EwYTNhZWUyYzQ4NWJkZWUgPSAkKCc8ZGl2IGlkPSJodG1sX2M1YzE5NzJhY2I5YTQ0ZGNhMGEzYWVlMmM0ODViZGVlIiBzdHlsZT0id2lkdGg6IDEwMC4wJTsgaGVpZ2h0OiAxMDAuMCU7Ij5LZW50IEVsZW1lbnRhcnkgSW50ZW5zaXZlIExlYXJuaW5nIENlbnRlcjwvZGl2PicpWzBdOwogICAgICAgICAgICAgICAgcG9wdXBfNTc1NzAxN2I4Njk2NDQ3YWFjZmVlOTZlNzViMDU1MWIuc2V0Q29udGVudChodG1sX2M1YzE5NzJhY2I5YTQ0ZGNhMGEzYWVlMmM0ODViZGVlKTsKICAgICAgICAgICAgCgogICAgICAgICAgICBtYXJrZXJfZTkxNmJlYmQ0ZTMzNGU4OWIyZjQ1NGUyMzc4NDk5NTAuYmluZFBvcHVwKHBvcHVwXzU3NTcwMTdiODY5NjQ0N2FhY2ZlZTk2ZTc1YjA1NTFiKTsKCiAgICAgICAgICAgIAogICAgICAgIAogICAgCgogICAgICAgICAgICB2YXIgbWFya2VyX2NlYmQ3NDNiNDg1NTRlM2NhMTVhNjc0NzUwN2ExYmM5ID0gTC5tYXJrZXIoCiAgICAgICAgICAgICAgICBbMzkuNzQwOTI1LC03NS41NDQ0NTZdLAogICAgICAgICAgICAgICAgewogICAgICAgICAgICAgICAgICAgIGljb246IG5ldyBMLkljb24uRGVmYXVsdCgpCiAgICAgICAgICAgICAgICAgICAgfQogICAgICAgICAgICAgICAgKQogICAgICAgICAgICAgICAgLmFkZFRvKG1hcF82MzNkYWVlZDMyYzA0NTI1OGQ1ZTg0ODY1ZmY2MTFmOSk7CiAgICAgICAgICAgIAogICAgCiAgICAgICAgICAgIHZhciBwb3B1cF9lZmUxMjJiYzg1N2E0ZmIyYWE0YjU1MDJmZmY5OGZjZCA9IEwucG9wdXAoe21heFdpZHRoOiAnMzAwJ30pOwoKICAgICAgICAgICAgCiAgICAgICAgICAgICAgICB2YXIgaHRtbF82OTNjMmE3YmE2MjY0MzUyOWYzNTU5MGFmYjNmMDhlZiA9ICQoJzxkaXYgaWQ9Imh0bWxfNjkzYzJhN2JhNjI2NDM1MjlmMzU1OTBhZmIzZjA4ZWYiIHN0eWxlPSJ3aWR0aDogMTAwLjAlOyBoZWlnaHQ6IDEwMC4wJTsiPkJhbmNyb2Z0IEVsZW1lbnRhcnkgU2Nob29sPC9kaXY+JylbMF07CiAgICAgICAgICAgICAgICBwb3B1cF9lZmUxMjJiYzg1N2E0ZmIyYWE0YjU1MDJmZmY5OGZjZC5zZXRDb250ZW50KGh0bWxfNjkzYzJhN2JhNjI2NDM1MjlmMzU1OTBhZmIzZjA4ZWYpOwogICAgICAgICAgICAKCiAgICAgICAgICAgIG1hcmtlcl9jZWJkNzQzYjQ4NTU0ZTNjYTE1YTY3NDc1MDdhMWJjOS5iaW5kUG9wdXAocG9wdXBfZWZlMTIyYmM4NTdhNGZiMmFhNGI1NTAyZmZmOThmY2QpOwoKICAgICAgICAgICAgCiAgICAgICAgCiAgICAKCiAgICAgICAgICAgIHZhciBtYXJrZXJfYjYxZWEwYzIyMWM1NDBhOGIyMmM3YTg2NjE3YTc1ZDMgPSBMLm1hcmtlcigKICAgICAgICAgICAgICAgIFszOS43MjUyNTQsLTc1LjY4NjAyNV0sCiAgICAgICAgICAgICAgICB7CiAgICAgICAgICAgICAgICAgICAgaWNvbjogbmV3IEwuSWNvbi5EZWZhdWx0KCkKICAgICAgICAgICAgICAgICAgICB9CiAgICAgICAgICAgICAgICApCiAgICAgICAgICAgICAgICAuYWRkVG8obWFwXzYzM2RhZWVkMzJjMDQ1MjU4ZDVlODQ4NjVmZjYxMWY5KTsKICAgICAgICAgICAgCiAgICAKICAgICAgICAgICAgdmFyIHBvcHVwXzk4NzE3ZmY4NGM0MTRhNzk5MjU2NDBjZmJiZTZhODQ1ID0gTC5wb3B1cCh7bWF4V2lkdGg6ICczMDAnfSk7CgogICAgICAgICAgICAKICAgICAgICAgICAgICAgIHZhciBodG1sX2U1ZDlhNDcwYzU3NTRhMjJhMzBkYmRmMTdiMTA0ZmQ2ID0gJCgnPGRpdiBpZD0iaHRtbF9lNWQ5YTQ3MGM1NzU0YTIyYTMwZGJkZjE3YjEwNGZkNiIgc3R5bGU9IndpZHRoOiAxMDAuMCU7IGhlaWdodDogMTAwLjAlOyI+U2t5bGluZSBNaWRkbGUgU2Nob29sPC9kaXY+JylbMF07CiAgICAgICAgICAgICAgICBwb3B1cF85ODcxN2ZmODRjNDE0YTc5OTI1NjQwY2ZiYmU2YTg0NS5zZXRDb250ZW50KGh0bWxfZTVkOWE0NzBjNTc1NGEyMmEzMGRiZGYxN2IxMDRmZDYpOwogICAgICAgICAgICAKCiAgICAgICAgICAgIG1hcmtlcl9iNjFlYTBjMjIxYzU0MGE4YjIyYzdhODY2MTdhNzVkMy5iaW5kUG9wdXAocG9wdXBfOTg3MTdmZjg0YzQxNGE3OTkyNTY0MGNmYmJlNmE4NDUpOwoKICAgICAgICAgICAgCiAgICAgICAgCiAgICAKCiAgICAgICAgICAgIHZhciBtYXJrZXJfMTA5NzE3YWZlYjc0NDBjZTlhNzc4ZTIzZGZjMmY5MjYgPSBMLm1hcmtlcigKICAgICAgICAgICAgICAgIFszOS41MDE0MjcsLTc1LjY4NTYxOV0sCiAgICAgICAgICAgICAgICB7CiAgICAgICAgICAgICAgICAgICAgaWNvbjogbmV3IEwuSWNvbi5EZWZhdWx0KCkKICAgICAgICAgICAgICAgICAgICB9CiAgICAgICAgICAgICAgICApCiAgICAgICAgICAgICAgICAuYWRkVG8obWFwXzYzM2RhZWVkMzJjMDQ1MjU4ZDVlODQ4NjVmZjYxMWY5KTsKICAgICAgICAgICAgCiAgICAKICAgICAgICAgICAgdmFyIHBvcHVwX2M1ODdkNWVlODBiZTQ3NDRiN2Q3YjQxOGE5MGJhOWNhID0gTC5wb3B1cCh7bWF4V2lkdGg6ICczMDAnfSk7CgogICAgICAgICAgICAKICAgICAgICAgICAgICAgIHZhciBodG1sXzVkNzA0YTAxMTRlZjRhZDQ5Y2IwZWRkZmJmNDE3NTQwID0gJCgnPGRpdiBpZD0iaHRtbF81ZDcwNGEwMTE0ZWY0YWQ0OWNiMGVkZGZiZjQxNzU0MCIgc3R5bGU9IndpZHRoOiAxMDAuMCU7IGhlaWdodDogMTAwLjAlOyI+V2F0ZXJzIChBbGZyZWQgRy4pIE1pZGRsZSBTY2hvb2w8L2Rpdj4nKVswXTsKICAgICAgICAgICAgICAgIHBvcHVwX2M1ODdkNWVlODBiZTQ3NDRiN2Q3YjQxOGE5MGJhOWNhLnNldENvbnRlbnQoaHRtbF81ZDcwNGEwMTE0ZWY0YWQ0OWNiMGVkZGZiZjQxNzU0MCk7CiAgICAgICAgICAgIAoKICAgICAgICAgICAgbWFya2VyXzEwOTcxN2FmZWI3NDQwY2U5YTc3OGUyM2RmYzJmOTI2LmJpbmRQb3B1cChwb3B1cF9jNTg3ZDVlZTgwYmU0NzQ0YjdkN2I0MThhOTBiYTljYSk7CgogICAgICAgICAgICAKICAgICAgICAKPC9zY3JpcHQ+\" style=\"position:absolute;width:100%;height:100%;left:0;top:0;\"></iframe></div></div>"
      ],
      "text/plain": [
       "<folium.folium.Map at 0x7fe8d3d6e5c0>"
      ]
     },
     "execution_count": 71,
     "metadata": {},
     "output_type": "execute_result"
    }
   ],
   "source": [
    "school_map"
   ]
  },
  {
   "cell_type": "markdown",
   "metadata": {
    "collapsed": true,
    "deletable": true,
    "editable": true
   },
   "source": [
    "[fin]"
   ]
  }
 ],
 "metadata": {
  "kernelspec": {
   "display_name": "Python 3",
   "language": "python",
   "name": "python3"
  },
  "language_info": {
   "codemirror_mode": {
    "name": "ipython",
    "version": 3
   },
   "file_extension": ".py",
   "mimetype": "text/x-python",
   "name": "python",
   "nbconvert_exporter": "python",
   "pygments_lexer": "ipython3",
   "version": "3.5.2"
  }
 },
 "nbformat": 4,
 "nbformat_minor": 2
}
